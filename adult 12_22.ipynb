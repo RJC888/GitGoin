{
 "cells": [
  {
   "cell_type": "code",
   "execution_count": 3,
   "id": "ca4aff9e-22c8-4a88-ab15-edb259807b72",
   "metadata": {},
   "outputs": [],
   "source": [
    "import pandas as pd\n",
    "import numpy as np"
   ]
  },
  {
   "cell_type": "code",
   "execution_count": 39,
   "id": "394ce403-7a3e-46c2-a286-294954fc4faf",
   "metadata": {},
   "outputs": [],
   "source": [
    "import seaborn as sns\n",
    "from matplotlib import pyplot as plt\n",
    "from scipy import stats\n",
    "from sklearn.datasets import load_iris"
   ]
  },
  {
   "cell_type": "code",
   "execution_count": null,
   "id": "bdc256c4-fcf2-426a-bbf2-cd16785b2aaf",
   "metadata": {},
   "outputs": [],
   "source": []
  },
  {
   "cell_type": "code",
   "execution_count": 10,
   "id": "626baa2c-242a-4c1b-a5ed-54914ce9b029",
   "metadata": {},
   "outputs": [],
   "source": [
    "adult = pd.read_csv(\"data/adult.data.csv\")"
   ]
  },
  {
   "cell_type": "code",
   "execution_count": 11,
   "id": "4343f8e1-9f5d-4e86-8c41-128573309a74",
   "metadata": {},
   "outputs": [
    {
     "name": "stdout",
     "output_type": "stream",
     "text": [
      "adult 12_22.ipynb  \u001b[34mdata\u001b[m\u001b[m/\n"
     ]
    }
   ],
   "source": [
    "ls"
   ]
  },
  {
   "cell_type": "code",
   "execution_count": 12,
   "id": "601128a7-f412-4d5a-8cb2-66320b72424a",
   "metadata": {},
   "outputs": [
    {
     "data": {
      "text/plain": [
       "age                int64\n",
       "job type          object\n",
       "id                 int64\n",
       "degree            object\n",
       "yrs employed       int64\n",
       "married status    object\n",
       "spouse job        object\n",
       "fam stat          object\n",
       "race              object\n",
       "gender            object\n",
       "col1               int64\n",
       "col2               int64\n",
       "col3               int64\n",
       "country           object\n",
       "sal range         object\n",
       "dtype: object"
      ]
     },
     "execution_count": 12,
     "metadata": {},
     "output_type": "execute_result"
    }
   ],
   "source": [
    "adult.dtypes"
   ]
  },
  {
   "cell_type": "code",
   "execution_count": null,
   "id": "5bb38665-cf4a-4525-a5c0-5d68afc93669",
   "metadata": {},
   "outputs": [],
   "source": []
  },
  {
   "cell_type": "code",
   "execution_count": 54,
   "id": "33962281-631d-409b-b348-e3794370a940",
   "metadata": {},
   "outputs": [
    {
     "data": {
      "text/plain": [
       "<AxesSubplot:xlabel='sal range', ylabel='age'>"
      ]
     },
     "execution_count": 54,
     "metadata": {},
     "output_type": "execute_result"
    },
    {
     "data": {
      "image/png": "[encoded data removed]",
      "text/plain": [
       "<Figure size 432x288 with 1 Axes>"
      ]
     },
     "metadata": {
      "needs_background": "light"
     },
     "output_type": "display_data"
    }
   ],
   "source": [
    "colors = {0:'red', 1:'green', 2:'blue'}\n",
    "#adult[\"colors\"] = adult[\"gender\"].map(colors)\n",
    "adult.plot.scatter(\"sal range\",'age',c=adult[\"colors\"])"
   ]
  },
  {
   "cell_type": "code",
   "execution_count": null,
   "id": "55b1d580-6906-4677-b38f-3ae25912b100",
   "metadata": {},
   "outputs": [],
   "source": []
  },
  {
   "cell_type": "code",
   "execution_count": null,
   "id": "acf5984e-b087-40ae-a63d-33b319612bb4",
   "metadata": {},
   "outputs": [],
   "source": [
    "#VISUALIZATION"
   ]
  },
  {
   "cell_type": "code",
   "execution_count": 55,
   "id": "cf50d8f5-2144-4f45-8144-c1c7fbc4077b",
   "metadata": {},
   "outputs": [
    {
     "data": {
      "image/png": "[encoded data removed]",
      "text/plain": [
       "<Figure size 432x288 with 1 Axes>"
      ]
     },
     "metadata": {
      "needs_background": "light"
     },
     "output_type": "display_data"
    }
   ],
   "source": [
    "fig, ax = plt.subplots()"
   ]
  },
  {
   "cell_type": "code",
   "execution_count": 58,
   "id": "395f5e81-a4d8-434e-b02e-dd1113934ace",
   "metadata": {},
   "outputs": [
    {
     "data": {
      "text/plain": [
       "<Figure size 432x288 with 0 Axes>"
      ]
     },
     "metadata": {},
     "output_type": "display_data"
    }
   ],
   "source": [
    "# x axis then y axis\n",
    "ax.scatter(adult['sal range'], adult['age'])\n",
    "ax.set_xlabel('sal range')\n",
    "ax.set_ylabel('age')\n",
    "ax.set_title('Positive Correlation btwn degree and sal range among Penguins')\n",
    "\n",
    "plt.tight_layout()"
   ]
  },
  {
   "cell_type": "code",
   "execution_count": 59,
   "id": "e5261036-fa2e-46ff-a63e-3abf55ab3ce9",
   "metadata": {},
   "outputs": [
    {
     "data": {
      "text/plain": [
       "(array([ 10.,  20.,  30.,  40.,  50.,  60.,  70.,  80.,  90., 100.]),\n",
       " [Text(0, 0, ''),\n",
       "  Text(0, 0, ''),\n",
       "  Text(0, 0, ''),\n",
       "  Text(0, 0, ''),\n",
       "  Text(0, 0, ''),\n",
       "  Text(0, 0, ''),\n",
       "  Text(0, 0, ''),\n",
       "  Text(0, 0, ''),\n",
       "  Text(0, 0, ''),\n",
       "  Text(0, 0, '')])"
      ]
     },
     "execution_count": 59,
     "metadata": {},
     "output_type": "execute_result"
    },
    {
     "data": {
      "image/png": "[encoded data removed]",
      "text/plain": [
       "<Figure size 432x288 with 1 Axes>"
      ]
     },
     "metadata": {
      "needs_background": "light"
     },
     "output_type": "display_data"
    }
   ],
   "source": [
    "plt.scatter(adult['sal range'], adult['age'])\n",
    "plt.xticks()\n",
    "plt.yticks() "
   ]
  },
  {
   "cell_type": "code",
   "execution_count": null,
   "id": "16c17b8b-022d-4b6e-a297-43a5cf20e77b",
   "metadata": {},
   "outputs": [],
   "source": []
  },
  {
   "cell_type": "code",
   "execution_count": null,
   "id": "eecab348-87b0-4f27-9bc2-04f86ddb4e74",
   "metadata": {},
   "outputs": [],
   "source": []
  },
  {
   "cell_type": "code",
   "execution_count": 13,
   "id": "be87fdd6-5dea-4b2f-a6da-b04ed489171d",
   "metadata": {},
   "outputs": [],
   "source": [
    "### NUMBER OF ROWS AND COLUMNS"
   ]
  },
  {
   "cell_type": "code",
   "execution_count": 14,
   "id": "d4f3df79-8be7-41bb-b3f9-edceb793d301",
   "metadata": {},
   "outputs": [
    {
     "data": {
      "text/plain": [
       "(32561, 15)"
      ]
     },
     "execution_count": 14,
     "metadata": {},
     "output_type": "execute_result"
    }
   ],
   "source": [
    "adult.shape\n",
    "# result shows 32561 rows and 15 columns"
   ]
  },
  {
   "cell_type": "code",
   "execution_count": 15,
   "id": "65767667-6c53-4c14-9197-d4d7cfec761c",
   "metadata": {},
   "outputs": [
    {
     "name": "stdout",
     "output_type": "stream",
     "text": [
      "(32561, 15)\n"
     ]
    }
   ],
   "source": [
    "print(adult.shape)"
   ]
  },
  {
   "cell_type": "code",
   "execution_count": null,
   "id": "dea5a4ca-745c-44bc-a5ba-697f07a896c4",
   "metadata": {},
   "outputs": [],
   "source": []
  },
  {
   "cell_type": "code",
   "execution_count": 16,
   "id": "4b5f48f7-6a6c-4096-adb7-abe27dd6bd65",
   "metadata": {},
   "outputs": [],
   "source": [
    "### NUMBER OF MALES AND FEMALES"
   ]
  },
  {
   "cell_type": "code",
   "execution_count": 17,
   "id": "5c30ae7f-705e-4212-b0f6-8833db25abec",
   "metadata": {},
   "outputs": [
    {
     "data": {
      "text/plain": [
       " Male      21790\n",
       " Female    10771\n",
       "Name: gender, dtype: int64"
      ]
     },
     "execution_count": 17,
     "metadata": {},
     "output_type": "execute_result"
    }
   ],
   "source": [
    "adult[\"gender\"].value_counts()\n",
    "# results show 21,790 males and 10,771 females"
   ]
  },
  {
   "cell_type": "code",
   "execution_count": null,
   "id": "2ced0436-9d24-48d9-a3b3-f595aa9fb98d",
   "metadata": {},
   "outputs": [],
   "source": []
  },
  {
   "cell_type": "code",
   "execution_count": 18,
   "id": "ee5c70c8-df58-4687-99b2-1ad811305f73",
   "metadata": {},
   "outputs": [],
   "source": [
    "df_adult = adult.explode(\"gender\")"
   ]
  },
  {
   "cell_type": "code",
   "execution_count": 19,
   "id": "24107dab-00aa-4ac3-b03f-b701bbb61c4a",
   "metadata": {},
   "outputs": [
    {
     "data": {
      "text/plain": [
       " Male      0.669205\n",
       " Female    0.330795\n",
       "Name: gender, dtype: float64"
      ]
     },
     "execution_count": 19,
     "metadata": {},
     "output_type": "execute_result"
    }
   ],
   "source": [
    "df_adult[\"gender\"].value_counts('male')"
   ]
  },
  {
   "cell_type": "code",
   "execution_count": null,
   "id": "e35bb5ad-4cdc-4f63-b441-933211ce23fe",
   "metadata": {},
   "outputs": [],
   "source": []
  },
  {
   "cell_type": "code",
   "execution_count": 20,
   "id": "2042cf60-6cf4-4e9b-98c9-208fc5a3ea32",
   "metadata": {},
   "outputs": [
    {
     "data": {
      "text/html": [
       "<div>\n",
       "<style scoped>\n",
       "    .dataframe tbody tr th:only-of-type {\n",
       "        vertical-align: middle;\n",
       "    }\n",
       "\n",
       "    .dataframe tbody tr th {\n",
       "        vertical-align: top;\n",
       "    }\n",
       "\n",
       "    .dataframe thead th {\n",
       "        text-align: right;\n",
       "    }\n",
       "</style>\n",
       "<table border=\"1\" class=\"dataframe\">\n",
       "  <thead>\n",
       "    <tr style=\"text-align: right;\">\n",
       "      <th></th>\n",
       "      <th>age</th>\n",
       "      <th>job type</th>\n",
       "      <th>id</th>\n",
       "      <th>degree</th>\n",
       "      <th>yrs employed</th>\n",
       "      <th>married status</th>\n",
       "      <th>spouse job</th>\n",
       "      <th>fam stat</th>\n",
       "      <th>race</th>\n",
       "      <th>gender</th>\n",
       "      <th>col1</th>\n",
       "      <th>col2</th>\n",
       "      <th>col3</th>\n",
       "      <th>country</th>\n",
       "      <th>sal range</th>\n",
       "    </tr>\n",
       "  </thead>\n",
       "  <tbody>\n",
       "    <tr>\n",
       "      <th>0</th>\n",
       "      <td>39</td>\n",
       "      <td>State-gov</td>\n",
       "      <td>77516</td>\n",
       "      <td>Bachelors</td>\n",
       "      <td>13</td>\n",
       "      <td>Never-married</td>\n",
       "      <td>Adm-clerical</td>\n",
       "      <td>Not-in-family</td>\n",
       "      <td>White</td>\n",
       "      <td>Male</td>\n",
       "      <td>2174</td>\n",
       "      <td>0</td>\n",
       "      <td>40</td>\n",
       "      <td>United-States</td>\n",
       "      <td>&lt;=50K</td>\n",
       "    </tr>\n",
       "    <tr>\n",
       "      <th>1</th>\n",
       "      <td>50</td>\n",
       "      <td>Self-emp-not-inc</td>\n",
       "      <td>83311</td>\n",
       "      <td>Bachelors</td>\n",
       "      <td>13</td>\n",
       "      <td>Married-civ-spouse</td>\n",
       "      <td>Exec-managerial</td>\n",
       "      <td>Husband</td>\n",
       "      <td>White</td>\n",
       "      <td>Male</td>\n",
       "      <td>0</td>\n",
       "      <td>0</td>\n",
       "      <td>13</td>\n",
       "      <td>United-States</td>\n",
       "      <td>&lt;=50K</td>\n",
       "    </tr>\n",
       "  </tbody>\n",
       "</table>\n",
       "</div>"
      ],
      "text/plain": [
       "   age           job type     id      degree  yrs employed  \\\n",
       "0   39          State-gov  77516   Bachelors            13   \n",
       "1   50   Self-emp-not-inc  83311   Bachelors            13   \n",
       "\n",
       "        married status        spouse job        fam stat    race gender  col1  \\\n",
       "0        Never-married      Adm-clerical   Not-in-family   White   Male  2174   \n",
       "1   Married-civ-spouse   Exec-managerial         Husband   White   Male     0   \n",
       "\n",
       "   col2  col3         country sal range  \n",
       "0     0    40   United-States     <=50K  \n",
       "1     0    13   United-States     <=50K  "
      ]
     },
     "execution_count": 20,
     "metadata": {},
     "output_type": "execute_result"
    }
   ],
   "source": [
    "adult.head(2)"
   ]
  },
  {
   "cell_type": "code",
   "execution_count": null,
   "id": "11cb9cb1-0146-458e-8dfc-f83585beea03",
   "metadata": {},
   "outputs": [],
   "source": []
  },
  {
   "cell_type": "code",
   "execution_count": null,
   "id": "485cd838-b001-4871-8a21-acd6e8a89ef0",
   "metadata": {},
   "outputs": [],
   "source": [
    "# Number of people who hold different level degrees:"
   ]
  },
  {
   "cell_type": "code",
   "execution_count": 21,
   "id": "8bd03b14-d889-44fc-84d5-b199b91c68b9",
   "metadata": {},
   "outputs": [
    {
     "data": {
      "text/plain": [
       " HS-grad         10501\n",
       " Some-college     7291\n",
       " Bachelors        5355\n",
       " Masters          1723\n",
       " Assoc-voc        1382\n",
       " 11th             1175\n",
       " Assoc-acdm       1067\n",
       " 10th              933\n",
       " 7th-8th           646\n",
       " Prof-school       576\n",
       " 9th               514\n",
       " 12th              433\n",
       " Doctorate         413\n",
       " 5th-6th           333\n",
       " 1st-4th           168\n",
       " Preschool          51\n",
       "Name: degree, dtype: int64"
      ]
     },
     "execution_count": 21,
     "metadata": {},
     "output_type": "execute_result"
    }
   ],
   "source": [
    "adult[\"degree\"].value_counts()"
   ]
  },
  {
   "cell_type": "code",
   "execution_count": null,
   "id": "15b6c623-8a62-4b44-9f3c-4b67b5b5993d",
   "metadata": {},
   "outputs": [],
   "source": []
  },
  {
   "cell_type": "code",
   "execution_count": null,
   "id": "3d0384a2-4de7-4e90-a191-0d6c53613c50",
   "metadata": {},
   "outputs": [],
   "source": [
    "# Number of people in the dataset who have different kind of marital status"
   ]
  },
  {
   "cell_type": "code",
   "execution_count": 32,
   "id": "51afc307-2f0e-4480-a01e-e2c6c6b63a9f",
   "metadata": {},
   "outputs": [
    {
     "data": {
      "text/plain": [
       " Married-civ-spouse       14976\n",
       " Never-married            10683\n",
       " Divorced                  4443\n",
       " Separated                 1025\n",
       " Widowed                    993\n",
       " Married-spouse-absent      418\n",
       " Married-AF-spouse           23\n",
       "Name: married status, dtype: int64"
      ]
     },
     "execution_count": 32,
     "metadata": {},
     "output_type": "execute_result"
    }
   ],
   "source": [
    "adult[\"married status\"].value_counts()"
   ]
  },
  {
   "cell_type": "code",
   "execution_count": null,
   "id": "cffe4206-36cb-4e28-8f1d-3bb6fbb901ce",
   "metadata": {},
   "outputs": [],
   "source": []
  },
  {
   "cell_type": "code",
   "execution_count": null,
   "id": "a267c3ac-f5de-4275-b7af-3b77def3fc45",
   "metadata": {},
   "outputs": [],
   "source": []
  },
  {
   "cell_type": "code",
   "execution_count": null,
   "id": "114e7d7b-9497-41d2-a6b7-41e698c40d0c",
   "metadata": {},
   "outputs": [],
   "source": [
    "# Number of people in the dataset from various ethnicities / races:"
   ]
  },
  {
   "cell_type": "code",
   "execution_count": 34,
   "id": "b6fd28f2-68b7-428d-9c26-7d3a73143cca",
   "metadata": {},
   "outputs": [
    {
     "data": {
      "text/plain": [
       " White                 27816\n",
       " Black                  3124\n",
       " Asian-Pac-Islander     1039\n",
       " Amer-Indian-Eskimo      311\n",
       " Other                   271\n",
       "Name: race, dtype: int64"
      ]
     },
     "execution_count": 34,
     "metadata": {},
     "output_type": "execute_result"
    }
   ],
   "source": [
    "adult[\"race\"].value_counts()"
   ]
  },
  {
   "cell_type": "code",
   "execution_count": 35,
   "id": "657498fa-71fe-4089-8cb9-25caeba8ce3b",
   "metadata": {},
   "outputs": [
    {
     "data": {
      "text/plain": [
       " Prof-specialty       4140\n",
       " Craft-repair         4099\n",
       " Exec-managerial      4066\n",
       " Adm-clerical         3770\n",
       " Sales                3650\n",
       " Other-service        3295\n",
       " Machine-op-inspct    2002\n",
       " ?                    1843\n",
       " Transport-moving     1597\n",
       " Handlers-cleaners    1370\n",
       " Farming-fishing       994\n",
       " Tech-support          928\n",
       " Protective-serv       649\n",
       " Priv-house-serv       149\n",
       " Armed-Forces            9\n",
       "Name: spouse job, dtype: int64"
      ]
     },
     "execution_count": 35,
     "metadata": {},
     "output_type": "execute_result"
    }
   ],
   "source": [
    "df_adult[\"spouse job\"].value_counts()"
   ]
  },
  {
   "cell_type": "code",
   "execution_count": 36,
   "id": "a6dc1aa4-f4b1-48e9-ae7c-0c436f6f52f7",
   "metadata": {},
   "outputs": [
    {
     "data": {
      "text/plain": [
       " Male      21790\n",
       " Female    10771\n",
       "Name: gender, dtype: int64"
      ]
     },
     "execution_count": 36,
     "metadata": {},
     "output_type": "execute_result"
    }
   ],
   "source": [
    "df_adult[\"gender\"].value_counts()\n",
    "#print(adult[\"gender\"].value_counts())"
   ]
  },
  {
   "cell_type": "code",
   "execution_count": 38,
   "id": "49717def-5984-4a39-bf3c-117d9589b23c",
   "metadata": {},
   "outputs": [
    {
     "name": "stdout",
     "output_type": "stream",
     "text": [
      "age 73\n",
      "job type 9\n",
      "id 21648\n",
      "degree 16\n",
      "yrs employed 16\n",
      "married status 7\n",
      "spouse job 15\n",
      "fam stat 6\n",
      "race 5\n",
      "gender 2\n",
      "col1 119\n",
      "col2 92\n",
      "col3 94\n",
      "country 42\n",
      "sal range 2\n"
     ]
    }
   ],
   "source": [
    "for col in df_adult.columns:\n",
    "    print(col,df_adult[col].nunique())"
   ]
  },
  {
   "cell_type": "code",
   "execution_count": null,
   "id": "8854723f-282c-401d-be8a-3d7a909ee29e",
   "metadata": {},
   "outputs": [],
   "source": []
  },
  {
   "cell_type": "code",
   "execution_count": null,
   "id": "6640a101-6f33-4552-9955-391eff373139",
   "metadata": {},
   "outputs": [],
   "source": []
  },
  {
   "cell_type": "code",
   "execution_count": 33,
   "id": "bf939168-3379-4894-b775-9cb27b44e1a6",
   "metadata": {},
   "outputs": [
    {
     "data": {
      "text/plain": [
       " Husband           13193\n",
       " Not-in-family      8305\n",
       " Own-child          5068\n",
       " Unmarried          3446\n",
       " Wife               1568\n",
       " Other-relative      981\n",
       "Name: fam stat, dtype: int64"
      ]
     },
     "execution_count": 33,
     "metadata": {},
     "output_type": "execute_result"
    }
   ],
   "source": [
    "adult[\"fam stat\"].value_counts()"
   ]
  },
  {
   "cell_type": "code",
   "execution_count": null,
   "id": "b9b5e6a8-58d2-468e-b7a5-4fa8f20d0adb",
   "metadata": {},
   "outputs": [],
   "source": []
  }
 ],
 "metadata": {
  "kernelspec": {
   "display_name": "Python 3 (ipykernel)",
   "language": "python",
   "name": "python3"
  },
  "language_info": {
   "codemirror_mode": {
    "name": "ipython",
    "version": 3
   },
   "file_extension": ".py",
   "mimetype": "text/x-python",
   "name": "python",
   "nbconvert_exporter": "python",
   "pygments_lexer": "ipython3",
   "version": "3.9.12"
  }
 },
 "nbformat": 4,
 "nbformat_minor": 5
}
